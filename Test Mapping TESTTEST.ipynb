{
 "cells": [
  {
   "cell_type": "code",
   "execution_count": 6,
   "metadata": {},
   "outputs": [
    {
     "ename": "AttributeError",
     "evalue": "'str' object has no attribute 'get'",
     "output_type": "error",
     "traceback": [
      "\u001b[1;31m---------------------------------------------------------------------------\u001b[0m",
      "\u001b[1;31mAttributeError\u001b[0m                            Traceback (most recent call last)",
      "Cell \u001b[1;32mIn[6], line 65\u001b[0m\n\u001b[0;32m     63\u001b[0m \u001b[38;5;66;03m# Example usage:\u001b[39;00m\n\u001b[0;32m     64\u001b[0m folder_path \u001b[38;5;241m=\u001b[39m \u001b[38;5;124m'\u001b[39m\u001b[38;5;124m.\u001b[39m\u001b[38;5;124m\\\u001b[39m\u001b[38;5;124mData\u001b[39m\u001b[38;5;124m'\u001b[39m  \u001b[38;5;66;03m# Update this with the path to your AIS JSON files folder\u001b[39;00m\n\u001b[1;32m---> 65\u001b[0m vessels \u001b[38;5;241m=\u001b[39m read_ais_json_files(folder_path)\n\u001b[0;32m     66\u001b[0m target_vessel_id \u001b[38;5;241m=\u001b[39m \u001b[38;5;124m'\u001b[39m\u001b[38;5;124mJAN LEEGHWATER\u001b[39m\u001b[38;5;124m'\u001b[39m  \u001b[38;5;66;03m# Specify the ID of the vessel you want to display\u001b[39;00m\n\u001b[0;32m     67\u001b[0m \u001b[38;5;28mmap\u001b[39m \u001b[38;5;241m=\u001b[39m create_map_for_vessel(vessels, target_vessel_id)\n",
      "Cell \u001b[1;32mIn[6], line 31\u001b[0m, in \u001b[0;36mread_ais_json_files\u001b[1;34m(folder_path)\u001b[0m\n\u001b[0;32m     28\u001b[0m data \u001b[38;5;241m=\u001b[39m json\u001b[38;5;241m.\u001b[39mload(f)\n\u001b[0;32m     29\u001b[0m \u001b[38;5;28;01mfor\u001b[39;00m entry \u001b[38;5;129;01min\u001b[39;00m data:\n\u001b[0;32m     30\u001b[0m     \u001b[38;5;66;03m# Extract relevant data (assuming JSON structure)\u001b[39;00m\n\u001b[1;32m---> 31\u001b[0m     vessel_id \u001b[38;5;241m=\u001b[39m entry\u001b[38;5;241m.\u001b[39mget(\u001b[38;5;124m'\u001b[39m\u001b[38;5;124mvessel\u001b[39m\u001b[38;5;124m'\u001b[39m)\n\u001b[0;32m     32\u001b[0m     lat \u001b[38;5;241m=\u001b[39m entry\u001b[38;5;241m.\u001b[39mget(\u001b[38;5;124m'\u001b[39m\u001b[38;5;124mlatitude\u001b[39m\u001b[38;5;124m'\u001b[39m)\n\u001b[0;32m     33\u001b[0m     lon \u001b[38;5;241m=\u001b[39m entry\u001b[38;5;241m.\u001b[39mget(\u001b[38;5;124m'\u001b[39m\u001b[38;5;124mlongitude\u001b[39m\u001b[38;5;124m'\u001b[39m)\n",
      "\u001b[1;31mAttributeError\u001b[0m: 'str' object has no attribute 'get'"
     ]
    }
   ],
   "source": [
    "import os\n",
    "import json\n",
    "import pandas as pd\n",
    "import folium\n",
    "\n",
    "# Define a class to represent a vessel\n",
    "class Vessel:\n",
    "    def __init__(self, vessel, lat, lon, speed, course):\n",
    "        self.vessel = vessel\n",
    "        self.lat = lat\n",
    "        self.lon = lon\n",
    "        self.speed = speed\n",
    "        self.course = course\n",
    "\n",
    "# Function to read AIS JSON files from a folder and convert them into a list of Vessel objects\n",
    "def read_ais_json_files(folder_path):\n",
    "    # List all files in the folder\n",
    "    files = os.listdir(folder_path)\n",
    "    # Filter only JSON files\n",
    "    json_files = [file for file in files if file.endswith('.json')]\n",
    "\n",
    "    # List to store vessel objects\n",
    "    vessels = []\n",
    "\n",
    "    # Read each JSON file and extract vessel information\n",
    "    for file in json_files:\n",
    "        with open(os.path.join(folder_path, file), 'r') as f:\n",
    "            data = json.load(f)\n",
    "            for entry in data:\n",
    "                # Extract relevant data (assuming JSON structure)\n",
    "                vessel_id = entry.get('vessel')\n",
    "                lat = entry.get('latitude')\n",
    "                lon = entry.get('longitude')\n",
    "                speed = entry.get('speed')\n",
    "                course = entry.get('course')\n",
    "                # Create Vessel object and append to list\n",
    "                vessel = Vessel(vessel_id, lat, lon, speed, course)\n",
    "                vessels.append(vessel)\n",
    "\n",
    "    return vessels\n",
    "\n",
    "# Function to create a map using folium for a specific vessel\n",
    "def create_map_for_vessel(vessels, target_vessel_id):\n",
    "    # Filter vessels to include only the target vessel\n",
    "    target_vessel = [vessel for vessel in vessels if vessel.vessel_id == target_vessel_id]\n",
    "\n",
    "    if not target_vessel:\n",
    "        print(f\"Vessel with ID {target_vessel_id} not found.\")\n",
    "        return None\n",
    "\n",
    "    target_vessel = target_vessel[0]  # Extract the first (and only) element\n",
    "\n",
    "    # Initialize map centered at the target vessel's location\n",
    "    map_center = [target_vessel.lat, target_vessel.lon]\n",
    "    m = folium.Map(location=map_center, zoom_start=10)\n",
    "\n",
    "    # Add marker for the target vessel\n",
    "    popup = f\"Vessel ID: {target_vessel.vessel_id}<br>Speed: {target_vessel.speed}<br>Course: {target_vessel.course}\"\n",
    "    folium.Marker(location=[target_vessel.lat, target_vessel.lon], popup=popup).add_to(m)\n",
    "\n",
    "    return m\n",
    "\n",
    "# Example usage:\n",
    "folder_path = '.\\Data'  # Update this with the path to your AIS JSON files folder\n",
    "vessels = read_ais_json_files(folder_path)\n",
    "target_vessel_id = 'JAN LEEGHWATER'  # Specify the ID of the vessel you want to display\n",
    "map = create_map_for_vessel(vessels, target_vessel_id)\n",
    "\n",
    "if map:\n",
    "    map.save('ais_map.html')  # Save the map as an HTML file"
   ]
  }
 ],
 "metadata": {
  "kernelspec": {
   "display_name": "base",
   "language": "python",
   "name": "python3"
  },
  "language_info": {
   "codemirror_mode": {
    "name": "ipython",
    "version": 3
   },
   "file_extension": ".py",
   "mimetype": "text/x-python",
   "name": "python",
   "nbconvert_exporter": "python",
   "pygments_lexer": "ipython3",
   "version": "3.11.4"
  }
 },
 "nbformat": 4,
 "nbformat_minor": 2
}
