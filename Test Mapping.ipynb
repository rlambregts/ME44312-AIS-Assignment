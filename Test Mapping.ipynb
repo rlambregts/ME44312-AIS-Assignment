{
 "cells": [
  {
   "cell_type": "code",
   "execution_count": 2,
   "metadata": {
    "ExecuteTime": {
     "end_time": "2024-03-14T13:10:19.819469Z",
     "start_time": "2024-03-14T13:10:19.276786Z"
    }
   },
   "outputs": [
    {
     "name": "stderr",
     "output_type": "stream",
     "text": [
      "<>:56: SyntaxWarning: invalid escape sequence '\\D'\n",
      "<>:56: SyntaxWarning: invalid escape sequence '\\D'\n",
      "C:\\Users\\dwolf\\AppData\\Local\\Temp\\ipykernel_6772\\4147583024.py:56: SyntaxWarning: invalid escape sequence '\\D'\n",
      "  folder_path = '.\\Data'  # Update this with the path to your AIS JSON files folder\n"
     ]
    },
    {
     "ename": "AttributeError",
     "evalue": "'str' object has no attribute 'get'",
     "output_type": "error",
     "traceback": [
      "\u001B[1;31m---------------------------------------------------------------------------\u001B[0m",
      "\u001B[1;31mAttributeError\u001B[0m                            Traceback (most recent call last)",
      "Cell \u001B[1;32mIn[2], line 57\u001B[0m\n\u001B[0;32m     55\u001B[0m \u001B[38;5;66;03m# Example usage:\u001B[39;00m\n\u001B[0;32m     56\u001B[0m folder_path \u001B[38;5;241m=\u001B[39m \u001B[38;5;124m'\u001B[39m\u001B[38;5;124m.\u001B[39m\u001B[38;5;124m\\\u001B[39m\u001B[38;5;124mData\u001B[39m\u001B[38;5;124m'\u001B[39m  \u001B[38;5;66;03m# Update this with the path to your AIS JSON files folder\u001B[39;00m\n\u001B[1;32m---> 57\u001B[0m vessels \u001B[38;5;241m=\u001B[39m \u001B[43mread_ais_json_files\u001B[49m\u001B[43m(\u001B[49m\u001B[43mfolder_path\u001B[49m\u001B[43m)\u001B[49m\n\u001B[0;32m     58\u001B[0m \u001B[38;5;28mmap\u001B[39m \u001B[38;5;241m=\u001B[39m create_map(vessels)\n\u001B[0;32m     59\u001B[0m \u001B[38;5;28mmap\u001B[39m\u001B[38;5;241m.\u001B[39msave(\u001B[38;5;124m'\u001B[39m\u001B[38;5;124mais_map.html\u001B[39m\u001B[38;5;124m'\u001B[39m)  \u001B[38;5;66;03m# Save the map as an HTML file\u001B[39;00m\n",
      "Cell \u001B[1;32mIn[2], line 31\u001B[0m, in \u001B[0;36mread_ais_json_files\u001B[1;34m(folder_path)\u001B[0m\n\u001B[0;32m     28\u001B[0m data \u001B[38;5;241m=\u001B[39m json\u001B[38;5;241m.\u001B[39mload(f)\n\u001B[0;32m     29\u001B[0m \u001B[38;5;28;01mfor\u001B[39;00m entry \u001B[38;5;129;01min\u001B[39;00m data:\n\u001B[0;32m     30\u001B[0m     \u001B[38;5;66;03m# Extract relevant data (assuming JSON structure)\u001B[39;00m\n\u001B[1;32m---> 31\u001B[0m     vessel_id \u001B[38;5;241m=\u001B[39m \u001B[43mentry\u001B[49m\u001B[38;5;241;43m.\u001B[39;49m\u001B[43mget\u001B[49m(\u001B[38;5;124m'\u001B[39m\u001B[38;5;124mvessel_id\u001B[39m\u001B[38;5;124m'\u001B[39m)\n\u001B[0;32m     32\u001B[0m     lat \u001B[38;5;241m=\u001B[39m entry\u001B[38;5;241m.\u001B[39mget(\u001B[38;5;124m'\u001B[39m\u001B[38;5;124mlatitude\u001B[39m\u001B[38;5;124m'\u001B[39m)\n\u001B[0;32m     33\u001B[0m     lon \u001B[38;5;241m=\u001B[39m entry\u001B[38;5;241m.\u001B[39mget(\u001B[38;5;124m'\u001B[39m\u001B[38;5;124mlongitude\u001B[39m\u001B[38;5;124m'\u001B[39m)\n",
      "\u001B[1;31mAttributeError\u001B[0m: 'str' object has no attribute 'get'"
     ]
    }
   ],
   "source": [
    "import os\n",
    "import json\n",
    "import pandas as pd\n",
    "import folium\n",
    "\n",
    "# Define a class to represent a vessel\n",
    "class Vessel:\n",
    "    def __init__(self, vessel_id, lat, lon, speed, course):\n",
    "        self.vessel_id = vessel_id\n",
    "        self.lat = lat\n",
    "        self.lon = lon\n",
    "        self.speed = speed\n",
    "        self.course = course\n",
    "\n",
    "# Function to read AIS JSON files from a folder and convert them into a list of Vessel objects\n",
    "def read_ais_json_files(folder_path):\n",
    "    # List all files in the folder\n",
    "    files = os.listdir(folder_path)\n",
    "    # Filter only JSON files\n",
    "    json_files = [file for file in files if file.endswith('.json')]\n",
    "\n",
    "    # List to store vessel objects\n",
    "    vessels = []\n",
    "\n",
    "    # Read each JSON file and extract vessel information\n",
    "    for file in json_files:\n",
    "        with open(os.path.join(folder_path, file), 'r') as f:\n",
    "            data = json.load(f)\n",
    "            for entry in data:\n",
    "                # Extract relevant data (assuming JSON structure)\n",
    "                vessel_id = entry.get('vessel_id')\n",
    "                lat = entry.get('latitude')\n",
    "                lon = entry.get('longitude')\n",
    "                speed = entry.get('speed')\n",
    "                course = entry.get('course')\n",
    "                # Create Vessel object and append to list\n",
    "                vessel = Vessel(vessel_id, lat, lon, speed, course)\n",
    "                vessels.append(vessel)\n",
    "\n",
    "    return vessels\n",
    "\n",
    "# Function to create a map using folium\n",
    "def create_map(vessels):\n",
    "    # Initialize map centered at the first vessel's location\n",
    "    map_center = [vessels[0].lat, vessels[0].lon]\n",
    "    m = folium.Map(location=map_center, zoom_start=10)\n",
    "\n",
    "    # Add markers for each vessel\n",
    "    for vessel in vessels:\n",
    "        popup = f\"Vessel ID: {vessel.vessel_id}<br>Speed: {vessel.speed}<br>Course: {vessel.course}\"\n",
    "        folium.Marker(location=[vessel.lat, vessel.lon], popup=popup).add_to(m)\n",
    "\n",
    "    return m\n",
    "\n",
    "# Example usage:\n",
    "folder_path = '.\\Data'  # Update this with the path to your AIS JSON files folder\n",
    "vessels = read_ais_json_files(folder_path)\n",
    "map = create_map(vessels)\n",
    "map.save('ais_map.html')  # Save the map as an HTML file"
   ]
  },
  {
   "cell_type": "code",
   "outputs": [],
   "source": [],
   "metadata": {
    "collapsed": false,
    "ExecuteTime": {
     "end_time": "2024-03-14T13:09:52.415883Z",
     "start_time": "2024-03-14T13:09:52.411527Z"
    }
   },
   "execution_count": 1
  },
  {
   "cell_type": "code",
   "outputs": [],
   "source": [],
   "metadata": {
    "collapsed": false
   }
  }
 ],
 "metadata": {
  "kernelspec": {
   "display_name": "base",
   "language": "python",
   "name": "python3"
  },
  "language_info": {
   "codemirror_mode": {
    "name": "ipython",
    "version": 3
   },
   "file_extension": ".py",
   "mimetype": "text/x-python",
   "name": "python",
   "nbconvert_exporter": "python",
   "pygments_lexer": "ipython3",
   "version": "3.11.4"
  }
 },
 "nbformat": 4,
 "nbformat_minor": 2
}
