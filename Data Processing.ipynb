{
 "cells": [
  {
   "cell_type": "code",
   "execution_count": 8,
   "metadata": {
    "ExecuteTime": {
     "end_time": "2024-03-26T10:35:08.932686Z",
     "start_time": "2024-03-26T10:35:03.969901Z"
    }
   },
   "outputs": [
    {
     "data": {
      "text/plain": "   navigation.draught            navigation.time  navigation.speed  \\\n0                 3.0  2021-01-01T00:04:34+00:00               0.0   \n1                 3.0  2021-01-01T00:10:34+00:00               0.0   \n2                 3.0  2021-01-01T00:16:34+00:00               0.0   \n3                 3.0  2021-01-01T00:16:34+00:00               0.0   \n4                 3.0  2021-01-01T00:22:33+00:00               0.0   \n\n   navigation.heading  navigation.location.long  navigation.location.lat  \\\n0                 NaN                   4.59392                 51.68819   \n1                 NaN                   4.59381                 51.68838   \n2                 NaN                   4.59402                 51.68827   \n3                 NaN                   4.59402                 51.68827   \n4                 NaN                   4.59388                 51.68833   \n\n   navigation.course navigation.destination.name navigation.destination.eta  \\\n0               16.8        MOERDIJKE, ROTTERDAM  2021-11-25T14:00:00+00:00   \n1                8.7        MOERDIJKE, ROTTERDAM  2021-11-25T14:00:00+00:00   \n2               11.6        MOERDIJKE, ROTTERDAM  2021-11-25T14:00:00+00:00   \n3               11.6        MOERDIJKE, ROTTERDAM  2021-11-25T14:00:00+00:00   \n4                2.1        MOERDIJKE, ROTTERDAM  2021-11-25T14:00:00+00:00   \n\n  navigation.status  device.dimensions.to_port  device.dimensions.to_bow  \\\n0            moored                          0                         0   \n1            moored                          0                         0   \n2            moored                          0                         0   \n3            moored                          0                         0   \n4            moored                          0                         0   \n\n   device.dimensions.to_stern  device.dimensions.to_starboard  device.mmsi  \\\n0                           0                               0    245503000   \n1                           0                               0    245503000   \n2                           0                               0    245503000   \n3                           0                               0    245503000   \n4                           0                               0    245503000   \n\n  vessel.callsign vessel.subtype              vessel.type  vessel.imo  \\\n0            PBTD           None  dredging-underwater-ops     9516650   \n1            PBTD           None  dredging-underwater-ops     9516650   \n2            PBTD           None  dredging-underwater-ops     9516650   \n3            PBTD           None  dredging-underwater-ops     9516650   \n4            PBTD           None  dredging-underwater-ops     9516650   \n\n      vessel.name  \n0  JAN LEEGHWATER  \n1  JAN LEEGHWATER  \n2  JAN LEEGHWATER  \n3  JAN LEEGHWATER  \n4  JAN LEEGHWATER  ",
      "text/html": "<div>\n<style scoped>\n    .dataframe tbody tr th:only-of-type {\n        vertical-align: middle;\n    }\n\n    .dataframe tbody tr th {\n        vertical-align: top;\n    }\n\n    .dataframe thead th {\n        text-align: right;\n    }\n</style>\n<table border=\"1\" class=\"dataframe\">\n  <thead>\n    <tr style=\"text-align: right;\">\n      <th></th>\n      <th>navigation.draught</th>\n      <th>navigation.time</th>\n      <th>navigation.speed</th>\n      <th>navigation.heading</th>\n      <th>navigation.location.long</th>\n      <th>navigation.location.lat</th>\n      <th>navigation.course</th>\n      <th>navigation.destination.name</th>\n      <th>navigation.destination.eta</th>\n      <th>navigation.status</th>\n      <th>device.dimensions.to_port</th>\n      <th>device.dimensions.to_bow</th>\n      <th>device.dimensions.to_stern</th>\n      <th>device.dimensions.to_starboard</th>\n      <th>device.mmsi</th>\n      <th>vessel.callsign</th>\n      <th>vessel.subtype</th>\n      <th>vessel.type</th>\n      <th>vessel.imo</th>\n      <th>vessel.name</th>\n    </tr>\n  </thead>\n  <tbody>\n    <tr>\n      <th>0</th>\n      <td>3.0</td>\n      <td>2021-01-01T00:04:34+00:00</td>\n      <td>0.0</td>\n      <td>NaN</td>\n      <td>4.59392</td>\n      <td>51.68819</td>\n      <td>16.8</td>\n      <td>MOERDIJKE, ROTTERDAM</td>\n      <td>2021-11-25T14:00:00+00:00</td>\n      <td>moored</td>\n      <td>0</td>\n      <td>0</td>\n      <td>0</td>\n      <td>0</td>\n      <td>245503000</td>\n      <td>PBTD</td>\n      <td>None</td>\n      <td>dredging-underwater-ops</td>\n      <td>9516650</td>\n      <td>JAN LEEGHWATER</td>\n    </tr>\n    <tr>\n      <th>1</th>\n      <td>3.0</td>\n      <td>2021-01-01T00:10:34+00:00</td>\n      <td>0.0</td>\n      <td>NaN</td>\n      <td>4.59381</td>\n      <td>51.68838</td>\n      <td>8.7</td>\n      <td>MOERDIJKE, ROTTERDAM</td>\n      <td>2021-11-25T14:00:00+00:00</td>\n      <td>moored</td>\n      <td>0</td>\n      <td>0</td>\n      <td>0</td>\n      <td>0</td>\n      <td>245503000</td>\n      <td>PBTD</td>\n      <td>None</td>\n      <td>dredging-underwater-ops</td>\n      <td>9516650</td>\n      <td>JAN LEEGHWATER</td>\n    </tr>\n    <tr>\n      <th>2</th>\n      <td>3.0</td>\n      <td>2021-01-01T00:16:34+00:00</td>\n      <td>0.0</td>\n      <td>NaN</td>\n      <td>4.59402</td>\n      <td>51.68827</td>\n      <td>11.6</td>\n      <td>MOERDIJKE, ROTTERDAM</td>\n      <td>2021-11-25T14:00:00+00:00</td>\n      <td>moored</td>\n      <td>0</td>\n      <td>0</td>\n      <td>0</td>\n      <td>0</td>\n      <td>245503000</td>\n      <td>PBTD</td>\n      <td>None</td>\n      <td>dredging-underwater-ops</td>\n      <td>9516650</td>\n      <td>JAN LEEGHWATER</td>\n    </tr>\n    <tr>\n      <th>3</th>\n      <td>3.0</td>\n      <td>2021-01-01T00:16:34+00:00</td>\n      <td>0.0</td>\n      <td>NaN</td>\n      <td>4.59402</td>\n      <td>51.68827</td>\n      <td>11.6</td>\n      <td>MOERDIJKE, ROTTERDAM</td>\n      <td>2021-11-25T14:00:00+00:00</td>\n      <td>moored</td>\n      <td>0</td>\n      <td>0</td>\n      <td>0</td>\n      <td>0</td>\n      <td>245503000</td>\n      <td>PBTD</td>\n      <td>None</td>\n      <td>dredging-underwater-ops</td>\n      <td>9516650</td>\n      <td>JAN LEEGHWATER</td>\n    </tr>\n    <tr>\n      <th>4</th>\n      <td>3.0</td>\n      <td>2021-01-01T00:22:33+00:00</td>\n      <td>0.0</td>\n      <td>NaN</td>\n      <td>4.59388</td>\n      <td>51.68833</td>\n      <td>2.1</td>\n      <td>MOERDIJKE, ROTTERDAM</td>\n      <td>2021-11-25T14:00:00+00:00</td>\n      <td>moored</td>\n      <td>0</td>\n      <td>0</td>\n      <td>0</td>\n      <td>0</td>\n      <td>245503000</td>\n      <td>PBTD</td>\n      <td>None</td>\n      <td>dredging-underwater-ops</td>\n      <td>9516650</td>\n      <td>JAN LEEGHWATER</td>\n    </tr>\n  </tbody>\n</table>\n</div>"
     },
     "execution_count": 8,
     "metadata": {},
     "output_type": "execute_result"
    }
   ],
   "source": [
    "import os\n",
    "import json\n",
    "import pandas as pd\n",
    "import matplotlib.pyplot  as plt\n",
    "import folium\n",
    "from folium.plugins import MarkerCluster\n",
    "\n",
    "AIS_path = r'.\\Data'\n",
    "AIS_data = []\n",
    "\n",
    "# Iterate over files in the directory\n",
    "for file_name in os.listdir(AIS_path):\n",
    "    # Construct full file path\n",
    "    file_path = os.path.join(AIS_path, file_name)\n",
    "    \n",
    "    # Check if the path is a file (not a directory)\n",
    "    if os.path.isfile(file_path):\n",
    "        # Open and read the file\n",
    "        with open(file_path) as f:\n",
    "            # Load JSON data from the file\n",
    "            json_data = json.load(f)\n",
    "            # Append loaded data to the list\n",
    "            AIS_data.append(json_data)\n",
    "\n",
    "# Normalize the JSON data\n",
    "data_normalized = pd.json_normalize(AIS_data, 'data')\n",
    "\n",
    "# Now you can work with your DataFrame 'data_normalized'\n",
    "data_normalized.head(5)"
   ]
  },
  {
   "cell_type": "code",
   "execution_count": 17,
   "metadata": {
    "ExecuteTime": {
     "end_time": "2024-03-26T11:02:25.380679Z",
     "start_time": "2024-03-26T11:02:25.332706Z"
    }
   },
   "outputs": [
    {
     "name": "stdout",
     "output_type": "stream",
     "text": [
      "navigation.status\n",
      "moored    19495\n",
      "Name: count, dtype: int64\n",
      "vessel.name\n",
      "JORDY-M           5555\n",
      "JAN LEEGHWATER    5057\n",
      "ROMEE             2936\n",
      "CAAN              1794\n",
      "HELENA            1744\n",
      "AARBURG            912\n",
      "MARIBO MAERSK      649\n",
      "ORION              559\n",
      "SUNMI              289\n",
      "Name: count, dtype: int64\n"
     ]
    },
    {
     "data": {
      "text/plain": "       navigation.draught           navigation.time  navigation.speed  \\\n994                   2.5 2021-01-01 00:00:11+00:00               0.0   \n0                     3.0 2021-01-01 00:04:34+00:00               0.0   \n995                   2.5 2021-01-01 00:06:09+00:00               0.0   \n101                   2.5 2021-01-01 00:06:28+00:00               0.0   \n996                   2.5 2021-01-01 00:09:10+00:00               0.0   \n...                   ...                       ...               ...   \n78873                 2.6 2021-01-31 23:48:49+00:00               0.0   \n77535                15.5 2021-01-31 23:49:57+00:00               0.0   \n77536                15.5 2021-01-31 23:55:57+00:00               0.0   \n78592                 2.5 2021-01-31 23:56:15+00:00               0.0   \n79148                 2.0 2021-01-31 23:56:32+00:00               0.0   \n\n       navigation.heading  navigation.location.long  navigation.location.lat  \\\n994                   NaN                   4.01250                 51.95848   \n0                     NaN                   4.59392                 51.68819   \n995                   NaN                   4.01250                 51.95848   \n101                   NaN                   4.00828                 51.95784   \n996                   NaN                   4.01250                 51.95848   \n...                   ...                       ...                      ...   \n78873                66.0                   4.42495                 51.69706   \n77535               216.0                   4.00390                 51.95580   \n77536               216.0                   4.00390                 51.95580   \n78592                 NaN                   4.03464                 51.95739   \n79148                 NaN                   4.26777                 51.50295   \n\n       navigation.course navigation.destination.name  \\\n994                  0.0        RDAM MAASVLAKTE RDAM   \n0                   16.8        MOERDIJKE, ROTTERDAM   \n995                  0.0        RDAM MAASVLAKTE RDAM   \n101                252.0                  MAASVLAKTE   \n996                  0.0        RDAM MAASVLAKTE RDAM   \n...                  ...                         ...   \n78873               21.9                       BASEL   \n77535              216.0                 EGSUC>NLROT   \n77536              216.0                 EGSUC>NLROT   \n78592                0.0        RDAM MAASVLAKTE RDAM   \n79148              155.5         RDAM-BERGEN OP ZOOM   \n\n      navigation.destination.eta navigation.status  device.dimensions.to_port  \\\n994    2021-06-18T20:00:00+00:00            moored                          6   \n0      2021-11-25T14:00:00+00:00            moored                          0   \n995    2021-06-18T20:00:00+00:00            moored                          6   \n101    2021-12-31T16:59:00+00:00            moored                          7   \n996    2021-06-18T20:00:00+00:00            moored                          6   \n...                          ...               ...                        ...   \n78873  2021-11-16T15:05:00+00:00            moored                          5   \n77535  2021-01-29T12:30:00+00:00            moored                         30   \n77536  2021-01-29T12:30:00+00:00            moored                         30   \n78592  2021-06-18T20:00:00+00:00            moored                          6   \n79148                       None            moored                          2   \n\n       device.dimensions.to_bow  device.dimensions.to_stern  \\\n994                         111                           0   \n0                             0                           0   \n995                         111                           0   \n101                         120                          15   \n996                         111                           0   \n...                         ...                         ...   \n78873                       120                          15   \n77535                       146                         253   \n77536                       146                         253   \n78592                       111                           0   \n79148                        86                           0   \n\n       device.dimensions.to_starboard  device.mmsi vessel.callsign  \\\n994                                 6    244630718                   \n0                                   0    245503000            PBTD   \n995                                 6    244630718                   \n101                                 4    211560210          DB4165   \n996                                 6    244630718                   \n...                               ...          ...             ...   \n78873                               6    244650759          PC5409   \n77535                              30    219019094           OWJJ2   \n77536                              30    219019094           OWJJ2   \n78592                               6    244630718                   \n79148                               8    244670295          PF8141   \n\n        vessel.subtype              vessel.type  vessel.imo     vessel.name  \n994               None                    cargo           0         JORDY-M  \n0                 None  dredging-underwater-ops     9516650  JAN LEEGHWATER  \n995               None                    cargo           0         JORDY-M  \n101               None                    cargo           0         AARBURG  \n996               None                    cargo           0         JORDY-M  \n...                ...                      ...         ...             ...  \n78873             None                    cargo           0          HELENA  \n77535  hazardous-cat-a                    cargo     9619969   MARIBO MAERSK  \n77536  hazardous-cat-a                    cargo     9619969   MARIBO MAERSK  \n78592             None                    cargo           0         JORDY-M  \n79148             None                    other           0           ROMEE  \n\n[19495 rows x 20 columns]",
      "text/html": "<div>\n<style scoped>\n    .dataframe tbody tr th:only-of-type {\n        vertical-align: middle;\n    }\n\n    .dataframe tbody tr th {\n        vertical-align: top;\n    }\n\n    .dataframe thead th {\n        text-align: right;\n    }\n</style>\n<table border=\"1\" class=\"dataframe\">\n  <thead>\n    <tr style=\"text-align: right;\">\n      <th></th>\n      <th>navigation.draught</th>\n      <th>navigation.time</th>\n      <th>navigation.speed</th>\n      <th>navigation.heading</th>\n      <th>navigation.location.long</th>\n      <th>navigation.location.lat</th>\n      <th>navigation.course</th>\n      <th>navigation.destination.name</th>\n      <th>navigation.destination.eta</th>\n      <th>navigation.status</th>\n      <th>device.dimensions.to_port</th>\n      <th>device.dimensions.to_bow</th>\n      <th>device.dimensions.to_stern</th>\n      <th>device.dimensions.to_starboard</th>\n      <th>device.mmsi</th>\n      <th>vessel.callsign</th>\n      <th>vessel.subtype</th>\n      <th>vessel.type</th>\n      <th>vessel.imo</th>\n      <th>vessel.name</th>\n    </tr>\n  </thead>\n  <tbody>\n    <tr>\n      <th>994</th>\n      <td>2.5</td>\n      <td>2021-01-01 00:00:11+00:00</td>\n      <td>0.0</td>\n      <td>NaN</td>\n      <td>4.01250</td>\n      <td>51.95848</td>\n      <td>0.0</td>\n      <td>RDAM MAASVLAKTE RDAM</td>\n      <td>2021-06-18T20:00:00+00:00</td>\n      <td>moored</td>\n      <td>6</td>\n      <td>111</td>\n      <td>0</td>\n      <td>6</td>\n      <td>244630718</td>\n      <td></td>\n      <td>None</td>\n      <td>cargo</td>\n      <td>0</td>\n      <td>JORDY-M</td>\n    </tr>\n    <tr>\n      <th>0</th>\n      <td>3.0</td>\n      <td>2021-01-01 00:04:34+00:00</td>\n      <td>0.0</td>\n      <td>NaN</td>\n      <td>4.59392</td>\n      <td>51.68819</td>\n      <td>16.8</td>\n      <td>MOERDIJKE, ROTTERDAM</td>\n      <td>2021-11-25T14:00:00+00:00</td>\n      <td>moored</td>\n      <td>0</td>\n      <td>0</td>\n      <td>0</td>\n      <td>0</td>\n      <td>245503000</td>\n      <td>PBTD</td>\n      <td>None</td>\n      <td>dredging-underwater-ops</td>\n      <td>9516650</td>\n      <td>JAN LEEGHWATER</td>\n    </tr>\n    <tr>\n      <th>995</th>\n      <td>2.5</td>\n      <td>2021-01-01 00:06:09+00:00</td>\n      <td>0.0</td>\n      <td>NaN</td>\n      <td>4.01250</td>\n      <td>51.95848</td>\n      <td>0.0</td>\n      <td>RDAM MAASVLAKTE RDAM</td>\n      <td>2021-06-18T20:00:00+00:00</td>\n      <td>moored</td>\n      <td>6</td>\n      <td>111</td>\n      <td>0</td>\n      <td>6</td>\n      <td>244630718</td>\n      <td></td>\n      <td>None</td>\n      <td>cargo</td>\n      <td>0</td>\n      <td>JORDY-M</td>\n    </tr>\n    <tr>\n      <th>101</th>\n      <td>2.5</td>\n      <td>2021-01-01 00:06:28+00:00</td>\n      <td>0.0</td>\n      <td>NaN</td>\n      <td>4.00828</td>\n      <td>51.95784</td>\n      <td>252.0</td>\n      <td>MAASVLAKTE</td>\n      <td>2021-12-31T16:59:00+00:00</td>\n      <td>moored</td>\n      <td>7</td>\n      <td>120</td>\n      <td>15</td>\n      <td>4</td>\n      <td>211560210</td>\n      <td>DB4165</td>\n      <td>None</td>\n      <td>cargo</td>\n      <td>0</td>\n      <td>AARBURG</td>\n    </tr>\n    <tr>\n      <th>996</th>\n      <td>2.5</td>\n      <td>2021-01-01 00:09:10+00:00</td>\n      <td>0.0</td>\n      <td>NaN</td>\n      <td>4.01250</td>\n      <td>51.95848</td>\n      <td>0.0</td>\n      <td>RDAM MAASVLAKTE RDAM</td>\n      <td>2021-06-18T20:00:00+00:00</td>\n      <td>moored</td>\n      <td>6</td>\n      <td>111</td>\n      <td>0</td>\n      <td>6</td>\n      <td>244630718</td>\n      <td></td>\n      <td>None</td>\n      <td>cargo</td>\n      <td>0</td>\n      <td>JORDY-M</td>\n    </tr>\n    <tr>\n      <th>...</th>\n      <td>...</td>\n      <td>...</td>\n      <td>...</td>\n      <td>...</td>\n      <td>...</td>\n      <td>...</td>\n      <td>...</td>\n      <td>...</td>\n      <td>...</td>\n      <td>...</td>\n      <td>...</td>\n      <td>...</td>\n      <td>...</td>\n      <td>...</td>\n      <td>...</td>\n      <td>...</td>\n      <td>...</td>\n      <td>...</td>\n      <td>...</td>\n      <td>...</td>\n    </tr>\n    <tr>\n      <th>78873</th>\n      <td>2.6</td>\n      <td>2021-01-31 23:48:49+00:00</td>\n      <td>0.0</td>\n      <td>66.0</td>\n      <td>4.42495</td>\n      <td>51.69706</td>\n      <td>21.9</td>\n      <td>BASEL</td>\n      <td>2021-11-16T15:05:00+00:00</td>\n      <td>moored</td>\n      <td>5</td>\n      <td>120</td>\n      <td>15</td>\n      <td>6</td>\n      <td>244650759</td>\n      <td>PC5409</td>\n      <td>None</td>\n      <td>cargo</td>\n      <td>0</td>\n      <td>HELENA</td>\n    </tr>\n    <tr>\n      <th>77535</th>\n      <td>15.5</td>\n      <td>2021-01-31 23:49:57+00:00</td>\n      <td>0.0</td>\n      <td>216.0</td>\n      <td>4.00390</td>\n      <td>51.95580</td>\n      <td>216.0</td>\n      <td>EGSUC&gt;NLROT</td>\n      <td>2021-01-29T12:30:00+00:00</td>\n      <td>moored</td>\n      <td>30</td>\n      <td>146</td>\n      <td>253</td>\n      <td>30</td>\n      <td>219019094</td>\n      <td>OWJJ2</td>\n      <td>hazardous-cat-a</td>\n      <td>cargo</td>\n      <td>9619969</td>\n      <td>MARIBO MAERSK</td>\n    </tr>\n    <tr>\n      <th>77536</th>\n      <td>15.5</td>\n      <td>2021-01-31 23:55:57+00:00</td>\n      <td>0.0</td>\n      <td>216.0</td>\n      <td>4.00390</td>\n      <td>51.95580</td>\n      <td>216.0</td>\n      <td>EGSUC&gt;NLROT</td>\n      <td>2021-01-29T12:30:00+00:00</td>\n      <td>moored</td>\n      <td>30</td>\n      <td>146</td>\n      <td>253</td>\n      <td>30</td>\n      <td>219019094</td>\n      <td>OWJJ2</td>\n      <td>hazardous-cat-a</td>\n      <td>cargo</td>\n      <td>9619969</td>\n      <td>MARIBO MAERSK</td>\n    </tr>\n    <tr>\n      <th>78592</th>\n      <td>2.5</td>\n      <td>2021-01-31 23:56:15+00:00</td>\n      <td>0.0</td>\n      <td>NaN</td>\n      <td>4.03464</td>\n      <td>51.95739</td>\n      <td>0.0</td>\n      <td>RDAM MAASVLAKTE RDAM</td>\n      <td>2021-06-18T20:00:00+00:00</td>\n      <td>moored</td>\n      <td>6</td>\n      <td>111</td>\n      <td>0</td>\n      <td>6</td>\n      <td>244630718</td>\n      <td></td>\n      <td>None</td>\n      <td>cargo</td>\n      <td>0</td>\n      <td>JORDY-M</td>\n    </tr>\n    <tr>\n      <th>79148</th>\n      <td>2.0</td>\n      <td>2021-01-31 23:56:32+00:00</td>\n      <td>0.0</td>\n      <td>NaN</td>\n      <td>4.26777</td>\n      <td>51.50295</td>\n      <td>155.5</td>\n      <td>RDAM-BERGEN OP ZOOM</td>\n      <td>None</td>\n      <td>moored</td>\n      <td>2</td>\n      <td>86</td>\n      <td>0</td>\n      <td>8</td>\n      <td>244670295</td>\n      <td>PF8141</td>\n      <td>None</td>\n      <td>other</td>\n      <td>0</td>\n      <td>ROMEE</td>\n    </tr>\n  </tbody>\n</table>\n<p>19495 rows × 20 columns</p>\n</div>"
     },
     "execution_count": 17,
     "metadata": {},
     "output_type": "execute_result"
    }
   ],
   "source": [
    "# data_normalized['vessel.type'].unique()\n",
    "# data_normalized['vessel.name'].unique()\n",
    "# data_normalized['navigation.status'].unique()\n",
    "# data_normalized['navigation.destination.name'].unique()\n",
    "\n",
    "# filter de dubbele waardes van navigation.time eruit bij dezelfde vessel.imo\n",
    "\n",
    "data_normalized['navigation.time'] = pd.to_datetime(data_normalized['navigation.time'])\n",
    "data_normalized = data_normalized.sort_values(by=['navigation.time'])\n",
    "data_normalized = data_normalized.drop_duplicates(subset=['vessel.imo', 'navigation.time'], keep='last')\n",
    "\n",
    "# filter op de coordinaten van de haven in rotterdam \n",
    "# gooi waardes groter of kleiner dan de grens voor navigation.location.long en navigation.location.lat eruit\n",
    "\n",
    "# Define boundaries of the Rotterdam port area\n",
    "min_longitude = 3.8\n",
    "max_longitude = 4.6\n",
    "min_latitude = 51\n",
    "max_latitude = 52.5\n",
    "\n",
    "# Filter out data points outside the port area boundaries\n",
    "data_normalized = data_normalized[(data_normalized['navigation.location.long'] >= min_longitude) &\n",
    "                                  (data_normalized['navigation.location.long'] <= max_longitude) &\n",
    "                                  (data_normalized['navigation.location.lat'] >= min_latitude) &\n",
    "                                  (data_normalized['navigation.location.lat'] <= max_latitude)]\n",
    "\n",
    "# Filter de moored en at-anchor eruit voor de navigation.status\n",
    "data_normalized = data_normalized[(data_normalized['navigation.status'] == 'moored') |\n",
    "                                  (data_normalized['navigation.status'] == 'at-anchor')]\n",
    "\n",
    "# tel nu het aantal at_anchor en moored values\n",
    "print(data_normalized['navigation.status'].value_counts())\n",
    "\n",
    "# verwijder de rijen met een vessel.name die 2 of minder keer voorkomt\n",
    "\n",
    "# Bepaal het aantal voorkomens van elke 'vessel.name'\n",
    "vessel_name_counts = data_normalized['vessel.name'].value_counts()\n",
    "\n",
    "# Filter de rijen waarvan de 'vessel.name' twee keer of vaker voorkomt\n",
    "data_normalized = data_normalized[data_normalized['vessel.name'].isin(vessel_name_counts.index[vessel_name_counts > 2])]\n",
    "\n",
    "print(data_normalized['vessel.name'].value_counts())\n",
    "\n",
    "\n",
    "\n",
    "data_normalized"
   ]
  },
  {
   "cell_type": "code",
   "execution_count": null,
   "metadata": {
    "ExecuteTime": {
     "end_time": "2024-03-26T10:19:39.606508Z",
     "start_time": "2024-03-26T10:19:39.606508Z"
    }
   },
   "outputs": [],
   "source": [
    "locations = plt.scatter(data_normalized['navigation.location.long'], data_normalized['navigation.location.lat'])"
   ]
  },
  {
   "cell_type": "code",
   "execution_count": null,
   "metadata": {
    "ExecuteTime": {
     "start_time": "2024-03-26T10:19:39.607512Z"
    }
   },
   "outputs": [],
   "source": [
    "# Create a folium map centered at the mean latitude and longitude\n",
    "map_center = [data_normalized['navigation.location.lat'].mean(), data_normalized['navigation.location.long'].mean()]\n",
    "m = folium.Map(location=map_center, zoom_start=10)\n",
    "\n",
    "marker_cluster = MarkerCluster().add_to(m)\n",
    "\n",
    "for index, row in data_normalized.iterrows():\n",
    "    folium.Marker(location=[row['navigation.location.lat'], row['navigation.location.long']]).add_to(marker_cluster)\n",
    "\n",
    "# scatter_html = mplleaflet.fig_to_html(plt.gcf())\n",
    "\n",
    "# # Create a folium iframe to embed the scatterplot HTML\n",
    "# scatter_frame = folium.IFrame(html=scatter_html, width=500, height=300)\n",
    "# scatter_popup = folium.Popup(scatter_frame, max_width=500)\n",
    "\n",
    "# Add the scatterplot as a popup to the folium map\n",
    "# folium.Marker(location=map_center, popup=scatter_popup).add_to(m)\n",
    "    \n",
    "# m.save('ais_map_with_scatterplot.html')\n",
    "# m\n"
   ]
  }
 ],
 "metadata": {
  "kernelspec": {
   "display_name": "base",
   "language": "python",
   "name": "python3"
  },
  "language_info": {
   "codemirror_mode": {
    "name": "ipython",
    "version": 3
   },
   "file_extension": ".py",
   "mimetype": "text/x-python",
   "name": "python",
   "nbconvert_exporter": "python",
   "pygments_lexer": "ipython3",
   "version": "3.11.4"
  }
 },
 "nbformat": 4,
 "nbformat_minor": 2
}
