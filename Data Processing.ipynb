{
 "cells": [
  {
   "cell_type": "code",
   "execution_count": 2,
   "metadata": {
    "ExecuteTime": {
     "end_time": "2024-03-26T10:19:39.354448Z",
     "start_time": "2024-03-26T10:19:33.382318Z"
    }
   },
   "outputs": [
    {
     "data": {
      "text/plain": "   navigation.draught            navigation.time  navigation.speed  \\\n0                 3.0  2021-01-01T00:04:34+00:00               0.0   \n1                 3.0  2021-01-01T00:10:34+00:00               0.0   \n2                 3.0  2021-01-01T00:16:34+00:00               0.0   \n3                 3.0  2021-01-01T00:16:34+00:00               0.0   \n4                 3.0  2021-01-01T00:22:33+00:00               0.0   \n\n   navigation.heading  navigation.location.long  navigation.location.lat  \\\n0                 NaN                   4.59392                 51.68819   \n1                 NaN                   4.59381                 51.68838   \n2                 NaN                   4.59402                 51.68827   \n3                 NaN                   4.59402                 51.68827   \n4                 NaN                   4.59388                 51.68833   \n\n   navigation.course navigation.destination.name navigation.destination.eta  \\\n0               16.8        MOERDIJKE, ROTTERDAM  2021-11-25T14:00:00+00:00   \n1                8.7        MOERDIJKE, ROTTERDAM  2021-11-25T14:00:00+00:00   \n2               11.6        MOERDIJKE, ROTTERDAM  2021-11-25T14:00:00+00:00   \n3               11.6        MOERDIJKE, ROTTERDAM  2021-11-25T14:00:00+00:00   \n4                2.1        MOERDIJKE, ROTTERDAM  2021-11-25T14:00:00+00:00   \n\n  navigation.status  device.dimensions.to_port  device.dimensions.to_bow  \\\n0            moored                          0                         0   \n1            moored                          0                         0   \n2            moored                          0                         0   \n3            moored                          0                         0   \n4            moored                          0                         0   \n\n   device.dimensions.to_stern  device.dimensions.to_starboard  device.mmsi  \\\n0                           0                               0    245503000   \n1                           0                               0    245503000   \n2                           0                               0    245503000   \n3                           0                               0    245503000   \n4                           0                               0    245503000   \n\n  vessel.callsign vessel.subtype              vessel.type  vessel.imo  \\\n0            PBTD           None  dredging-underwater-ops     9516650   \n1            PBTD           None  dredging-underwater-ops     9516650   \n2            PBTD           None  dredging-underwater-ops     9516650   \n3            PBTD           None  dredging-underwater-ops     9516650   \n4            PBTD           None  dredging-underwater-ops     9516650   \n\n      vessel.name  \n0  JAN LEEGHWATER  \n1  JAN LEEGHWATER  \n2  JAN LEEGHWATER  \n3  JAN LEEGHWATER  \n4  JAN LEEGHWATER  ",
      "text/html": "<div>\n<style scoped>\n    .dataframe tbody tr th:only-of-type {\n        vertical-align: middle;\n    }\n\n    .dataframe tbody tr th {\n        vertical-align: top;\n    }\n\n    .dataframe thead th {\n        text-align: right;\n    }\n</style>\n<table border=\"1\" class=\"dataframe\">\n  <thead>\n    <tr style=\"text-align: right;\">\n      <th></th>\n      <th>navigation.draught</th>\n      <th>navigation.time</th>\n      <th>navigation.speed</th>\n      <th>navigation.heading</th>\n      <th>navigation.location.long</th>\n      <th>navigation.location.lat</th>\n      <th>navigation.course</th>\n      <th>navigation.destination.name</th>\n      <th>navigation.destination.eta</th>\n      <th>navigation.status</th>\n      <th>device.dimensions.to_port</th>\n      <th>device.dimensions.to_bow</th>\n      <th>device.dimensions.to_stern</th>\n      <th>device.dimensions.to_starboard</th>\n      <th>device.mmsi</th>\n      <th>vessel.callsign</th>\n      <th>vessel.subtype</th>\n      <th>vessel.type</th>\n      <th>vessel.imo</th>\n      <th>vessel.name</th>\n    </tr>\n  </thead>\n  <tbody>\n    <tr>\n      <th>0</th>\n      <td>3.0</td>\n      <td>2021-01-01T00:04:34+00:00</td>\n      <td>0.0</td>\n      <td>NaN</td>\n      <td>4.59392</td>\n      <td>51.68819</td>\n      <td>16.8</td>\n      <td>MOERDIJKE, ROTTERDAM</td>\n      <td>2021-11-25T14:00:00+00:00</td>\n      <td>moored</td>\n      <td>0</td>\n      <td>0</td>\n      <td>0</td>\n      <td>0</td>\n      <td>245503000</td>\n      <td>PBTD</td>\n      <td>None</td>\n      <td>dredging-underwater-ops</td>\n      <td>9516650</td>\n      <td>JAN LEEGHWATER</td>\n    </tr>\n    <tr>\n      <th>1</th>\n      <td>3.0</td>\n      <td>2021-01-01T00:10:34+00:00</td>\n      <td>0.0</td>\n      <td>NaN</td>\n      <td>4.59381</td>\n      <td>51.68838</td>\n      <td>8.7</td>\n      <td>MOERDIJKE, ROTTERDAM</td>\n      <td>2021-11-25T14:00:00+00:00</td>\n      <td>moored</td>\n      <td>0</td>\n      <td>0</td>\n      <td>0</td>\n      <td>0</td>\n      <td>245503000</td>\n      <td>PBTD</td>\n      <td>None</td>\n      <td>dredging-underwater-ops</td>\n      <td>9516650</td>\n      <td>JAN LEEGHWATER</td>\n    </tr>\n    <tr>\n      <th>2</th>\n      <td>3.0</td>\n      <td>2021-01-01T00:16:34+00:00</td>\n      <td>0.0</td>\n      <td>NaN</td>\n      <td>4.59402</td>\n      <td>51.68827</td>\n      <td>11.6</td>\n      <td>MOERDIJKE, ROTTERDAM</td>\n      <td>2021-11-25T14:00:00+00:00</td>\n      <td>moored</td>\n      <td>0</td>\n      <td>0</td>\n      <td>0</td>\n      <td>0</td>\n      <td>245503000</td>\n      <td>PBTD</td>\n      <td>None</td>\n      <td>dredging-underwater-ops</td>\n      <td>9516650</td>\n      <td>JAN LEEGHWATER</td>\n    </tr>\n    <tr>\n      <th>3</th>\n      <td>3.0</td>\n      <td>2021-01-01T00:16:34+00:00</td>\n      <td>0.0</td>\n      <td>NaN</td>\n      <td>4.59402</td>\n      <td>51.68827</td>\n      <td>11.6</td>\n      <td>MOERDIJKE, ROTTERDAM</td>\n      <td>2021-11-25T14:00:00+00:00</td>\n      <td>moored</td>\n      <td>0</td>\n      <td>0</td>\n      <td>0</td>\n      <td>0</td>\n      <td>245503000</td>\n      <td>PBTD</td>\n      <td>None</td>\n      <td>dredging-underwater-ops</td>\n      <td>9516650</td>\n      <td>JAN LEEGHWATER</td>\n    </tr>\n    <tr>\n      <th>4</th>\n      <td>3.0</td>\n      <td>2021-01-01T00:22:33+00:00</td>\n      <td>0.0</td>\n      <td>NaN</td>\n      <td>4.59388</td>\n      <td>51.68833</td>\n      <td>2.1</td>\n      <td>MOERDIJKE, ROTTERDAM</td>\n      <td>2021-11-25T14:00:00+00:00</td>\n      <td>moored</td>\n      <td>0</td>\n      <td>0</td>\n      <td>0</td>\n      <td>0</td>\n      <td>245503000</td>\n      <td>PBTD</td>\n      <td>None</td>\n      <td>dredging-underwater-ops</td>\n      <td>9516650</td>\n      <td>JAN LEEGHWATER</td>\n    </tr>\n  </tbody>\n</table>\n</div>"
     },
     "execution_count": 2,
     "metadata": {},
     "output_type": "execute_result"
    }
   ],
   "source": [
    "import os\n",
    "import json\n",
    "import pandas as pd\n",
    "import matplotlib.pyplot  as plt\n",
    "import folium\n",
    "from folium.plugins import MarkerCluster\n",
    "\n",
    "AIS_path = r'.\\Data'\n",
    "AIS_data = []\n",
    "\n",
    "# Iterate over files in the directory\n",
    "for file_name in os.listdir(AIS_path):\n",
    "    # Construct full file path\n",
    "    file_path = os.path.join(AIS_path, file_name)\n",
    "    \n",
    "    # Check if the path is a file (not a directory)\n",
    "    if os.path.isfile(file_path):\n",
    "        # Open and read the file\n",
    "        with open(file_path) as f:\n",
    "            # Load JSON data from the file\n",
    "            json_data = json.load(f)\n",
    "            # Append loaded data to the list\n",
    "            AIS_data.append(json_data)\n",
    "\n",
    "# Normalize the JSON data\n",
    "data_normalized = pd.json_normalize(AIS_data, 'data')\n",
    "\n",
    "# Now you can work with your DataFrame 'data_normalized'\n",
    "data_normalized.head(5)"
   ]
  },
  {
   "cell_type": "code",
   "execution_count": 8,
   "metadata": {
    "ExecuteTime": {
     "end_time": "2024-03-26T10:25:47.744928Z",
     "start_time": "2024-03-26T10:25:47.735381Z"
    }
   },
   "outputs": [
    {
     "data": {
      "text/plain": "Empty DataFrame\nColumns: [navigation.draught, navigation.time, navigation.speed, navigation.heading, navigation.location.long, navigation.location.lat, navigation.course, navigation.destination.name, navigation.destination.eta, navigation.status, device.dimensions.to_port, device.dimensions.to_bow, device.dimensions.to_stern, device.dimensions.to_starboard, device.mmsi, vessel.callsign, vessel.subtype, vessel.type, vessel.imo, vessel.name]\nIndex: []",
      "text/html": "<div>\n<style scoped>\n    .dataframe tbody tr th:only-of-type {\n        vertical-align: middle;\n    }\n\n    .dataframe tbody tr th {\n        vertical-align: top;\n    }\n\n    .dataframe thead th {\n        text-align: right;\n    }\n</style>\n<table border=\"1\" class=\"dataframe\">\n  <thead>\n    <tr style=\"text-align: right;\">\n      <th></th>\n      <th>navigation.draught</th>\n      <th>navigation.time</th>\n      <th>navigation.speed</th>\n      <th>navigation.heading</th>\n      <th>navigation.location.long</th>\n      <th>navigation.location.lat</th>\n      <th>navigation.course</th>\n      <th>navigation.destination.name</th>\n      <th>navigation.destination.eta</th>\n      <th>navigation.status</th>\n      <th>device.dimensions.to_port</th>\n      <th>device.dimensions.to_bow</th>\n      <th>device.dimensions.to_stern</th>\n      <th>device.dimensions.to_starboard</th>\n      <th>device.mmsi</th>\n      <th>vessel.callsign</th>\n      <th>vessel.subtype</th>\n      <th>vessel.type</th>\n      <th>vessel.imo</th>\n      <th>vessel.name</th>\n    </tr>\n  </thead>\n  <tbody>\n  </tbody>\n</table>\n</div>"
     },
     "execution_count": 8,
     "metadata": {},
     "output_type": "execute_result"
    }
   ],
   "source": [
    "# data_normalized['vessel.type'].unique()\n",
    "# data_normalized['vessel.name'].unique()\n",
    "# data_normalized['navigation.status'].unique()\n",
    "# data_normalized['navigation.destination.name'].unique()\n",
    "\n",
    "# filter de dubbele waardes van navigation.time eruit bij dezelfde vessel.imo\n",
    "\n",
    "data_normalized['navigation.time'] = pd.to_datetime(data_normalized['navigation.time'])\n",
    "data_normalized = data_normalized.sort_values(by=['navigation.time'])\n",
    "data_normalized = data_normalized.drop_duplicates(subset=['vessel.imo', 'navigation.time'], keep='last')\n",
    "\n",
    "# filter op de coordinaten van de haven in rotterdam \n",
    "# gooi waardes groter of kleiner dan de grens voor navigation.location.long en navigation.location.lat eruit\n",
    "\n",
    "# Define boundaries of the Rotterdam port area\n",
    "min_longitude = 3.8\n",
    "max_longitude = 4.6\n",
    "min_latitude = 51\n",
    "max_latitude = 52.5\n",
    "\n",
    "# Filter out data points outside the port area boundaries\n",
    "data_normalized = data_normalized[(data_normalized['navigation.location.long'] >= min_longitude) &\n",
    "                                  (data_normalized['navigation.location.long'] <= max_longitude) &\n",
    "                                  (data_normalized['navigation.location.lat'] >= min_latitude) &\n",
    "                                  (data_normalized['navigation.location.lat'] <= max_latitude)]\n",
    "\n",
    "# Filter de moored en at-anchor eruit voor de navigation.status\n",
    "data_normalized = data_normalized[(data_normalized['navigation.status'] == 'moored') | \n",
    "                                  (data_normalized['navigation.status'] == 'at-anchor')]\n",
    "\n",
    "\n",
    "\n",
    "\n",
    "data_normalized"
   ]
  },
  {
   "cell_type": "code",
   "execution_count": null,
   "metadata": {
    "ExecuteTime": {
     "end_time": "2024-03-26T10:19:39.606508Z",
     "start_time": "2024-03-26T10:19:39.606508Z"
    }
   },
   "outputs": [],
   "source": [
    "locations = plt.scatter(data_normalized['navigation.location.long'], data_normalized['navigation.location.lat'])"
   ]
  },
  {
   "cell_type": "code",
   "execution_count": null,
   "metadata": {
    "ExecuteTime": {
     "start_time": "2024-03-26T10:19:39.607512Z"
    }
   },
   "outputs": [],
   "source": [
    "# Create a folium map centered at the mean latitude and longitude\n",
    "map_center = [data_normalized['navigation.location.lat'].mean(), data_normalized['navigation.location.long'].mean()]\n",
    "m = folium.Map(location=map_center, zoom_start=10)\n",
    "\n",
    "marker_cluster = MarkerCluster().add_to(m)\n",
    "\n",
    "for index, row in data_normalized.iterrows():\n",
    "    folium.Marker(location=[row['navigation.location.lat'], row['navigation.location.long']]).add_to(marker_cluster)\n",
    "\n",
    "# scatter_html = mplleaflet.fig_to_html(plt.gcf())\n",
    "\n",
    "# # Create a folium iframe to embed the scatterplot HTML\n",
    "# scatter_frame = folium.IFrame(html=scatter_html, width=500, height=300)\n",
    "# scatter_popup = folium.Popup(scatter_frame, max_width=500)\n",
    "\n",
    "# Add the scatterplot as a popup to the folium map\n",
    "# folium.Marker(location=map_center, popup=scatter_popup).add_to(m)\n",
    "    \n",
    "# m.save('ais_map_with_scatterplot.html')\n",
    "# m\n"
   ]
  }
 ],
 "metadata": {
  "kernelspec": {
   "display_name": "base",
   "language": "python",
   "name": "python3"
  },
  "language_info": {
   "codemirror_mode": {
    "name": "ipython",
    "version": 3
   },
   "file_extension": ".py",
   "mimetype": "text/x-python",
   "name": "python",
   "nbconvert_exporter": "python",
   "pygments_lexer": "ipython3",
   "version": "3.11.4"
  }
 },
 "nbformat": 4,
 "nbformat_minor": 2
}
