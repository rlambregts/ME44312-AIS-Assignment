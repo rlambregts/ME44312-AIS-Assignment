{
 "cells": [
  {
   "cell_type": "code",
   "execution_count": null,
   "metadata": {},
   "outputs": [],
   "source": [
    "import os\n",
    "import json\n",
    "import pandas as pd\n",
    "import matplotlib.pyplot  as plt\n",
    "import folium\n",
    "from folium.plugins import MarkerCluster\n",
    "import geopandas as gpd\n",
    "\n",
    "AIS_path = r'.\\Data'\n",
    "AIS_data = []\n",
    "\n",
    "# Iterate over files in the directory\n",
    "for file_name in os.listdir(AIS_path):\n",
    "    # Construct full file path\n",
    "    file_path = os.path.join(AIS_path, file_name)\n",
    "    \n",
    "    # Check if the path is a file (not a directory)\n",
    "    if os.path.isfile(file_path):\n",
    "        # Open and read the file\n",
    "        with open(file_path) as f:\n",
    "            # Load JSON data from the file\n",
    "            json_data = json.load(f)\n",
    "            # Append loaded data to the list\n",
    "            AIS_data.append(json_data)\n",
    "\n",
    "# Normalize the JSON data\n",
    "data_normalized = pd.json_normalize(AIS_data, 'data')\n",
    "\n",
    "# Now you can work with your DataFrame 'data_normalized'\n",
    "data_normalized.head(5)\n",
    "\n",
    "# Read the polygon GeoJSON file\n",
    "polygon = gpd.read_file('port_of_rdam.geojson')\n",
    "\n",
    "# Ensure that CRS is properly defined for polygon\n",
    "polygon.crs = 'EPSG:4326'\n",
    "\n",
    "gdf = gpd.GeoDataFrame(\n",
    "    data_normalized,\n",
    "    geometry=gpd.points_from_xy(data_normalized['navigation.location.long'], data_normalized['navigation.location.lat']),\n",
    "    crs=polygon.crs)  # Use the same CRS as the polygon\n",
    "\n",
    "# Check if the points are within the polygon\n",
    "result = gdf.geometry.within(polygon.unary_union)\n",
    "\n",
    "# Add the in port status to the data\n",
    "data_normalized['in_port'] = result"
   ]
  }
 ],
 "metadata": {
  "language_info": {
   "name": "python"
  }
 },
 "nbformat": 4,
 "nbformat_minor": 2
}
