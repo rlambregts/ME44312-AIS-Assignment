{
 "cells": [
  {
   "cell_type": "code",
   "execution_count": 1,
   "metadata": {},
   "outputs": [
    {
     "ename": "AttributeError",
     "evalue": "'str' object has no attribute 'get'",
     "output_type": "error",
     "traceback": [
      "\u001b[1;31m---------------------------------------------------------------------------\u001b[0m",
      "\u001b[1;31mAttributeError\u001b[0m                            Traceback (most recent call last)",
      "Cell \u001b[1;32mIn[1], line 57\u001b[0m\n\u001b[0;32m     55\u001b[0m \u001b[38;5;66;03m# Example usage:\u001b[39;00m\n\u001b[0;32m     56\u001b[0m folder_path \u001b[38;5;241m=\u001b[39m \u001b[38;5;124m'\u001b[39m\u001b[38;5;124m.\u001b[39m\u001b[38;5;124m\\\u001b[39m\u001b[38;5;124mData\u001b[39m\u001b[38;5;124m'\u001b[39m  \u001b[38;5;66;03m# Update this with the path to your AIS JSON files folder\u001b[39;00m\n\u001b[1;32m---> 57\u001b[0m vessels \u001b[38;5;241m=\u001b[39m read_ais_json_files(folder_path)\n\u001b[0;32m     58\u001b[0m \u001b[38;5;28mmap\u001b[39m \u001b[38;5;241m=\u001b[39m create_map(vessels)\n\u001b[0;32m     59\u001b[0m \u001b[38;5;28mmap\u001b[39m\u001b[38;5;241m.\u001b[39msave(\u001b[38;5;124m'\u001b[39m\u001b[38;5;124mais_map.html\u001b[39m\u001b[38;5;124m'\u001b[39m)\n",
      "Cell \u001b[1;32mIn[1], line 31\u001b[0m, in \u001b[0;36mread_ais_json_files\u001b[1;34m(folder_path)\u001b[0m\n\u001b[0;32m     28\u001b[0m data \u001b[38;5;241m=\u001b[39m json\u001b[38;5;241m.\u001b[39mload(f)\n\u001b[0;32m     29\u001b[0m \u001b[38;5;28;01mfor\u001b[39;00m entry \u001b[38;5;129;01min\u001b[39;00m data:\n\u001b[0;32m     30\u001b[0m     \u001b[38;5;66;03m# Extract relevant data (assuming JSON structure)\u001b[39;00m\n\u001b[1;32m---> 31\u001b[0m     vessel_id \u001b[38;5;241m=\u001b[39m entry\u001b[38;5;241m.\u001b[39mget(\u001b[38;5;124m'\u001b[39m\u001b[38;5;124mvessel_id\u001b[39m\u001b[38;5;124m'\u001b[39m)\n\u001b[0;32m     32\u001b[0m     lat \u001b[38;5;241m=\u001b[39m entry\u001b[38;5;241m.\u001b[39mget(\u001b[38;5;124m'\u001b[39m\u001b[38;5;124mlatitude\u001b[39m\u001b[38;5;124m'\u001b[39m)\n\u001b[0;32m     33\u001b[0m     lon \u001b[38;5;241m=\u001b[39m entry\u001b[38;5;241m.\u001b[39mget(\u001b[38;5;124m'\u001b[39m\u001b[38;5;124mlongitude\u001b[39m\u001b[38;5;124m'\u001b[39m)\n",
      "\u001b[1;31mAttributeError\u001b[0m: 'str' object has no attribute 'get'"
     ]
    }
   ],
   "source": [
    "import os\n",
    "import json\n",
    "import pandas as pd\n",
    "import folium\n",
    "\n",
    "# Define a class to represent a vessel\n",
    "class Vessel:\n",
    "    def __init__(self, vessel_id, lat, lon, speed, course):\n",
    "        self.vessel_id = vessel_id\n",
    "        self.lat = lat\n",
    "        self.lon = lon\n",
    "        self.speed = speed\n",
    "        self.course = course\n",
    "\n",
    "# Function to read AIS JSON files from a folder and convert them into a list of Vessel objects\n",
    "def read_ais_json_files(folder_path):\n",
    "    # List all files in the folder\n",
    "    files = os.listdir(folder_path)\n",
    "    # Filter only JSON files\n",
    "    json_files = [file for file in files if file.endswith('.json')]\n",
    "\n",
    "    # List to store vessel objects\n",
    "    vessels = []\n",
    "\n",
    "    # Read each JSON file and extract vessel information\n",
    "    for file in json_files:\n",
    "        with open(os.path.join(folder_path, file), 'r') as f:\n",
    "            data = json.load(f)\n",
    "            for entry in data:\n",
    "                # Extract relevant data (assuming JSON structure)\n",
    "                vessel_id = entry.get('vessel_id')\n",
    "                lat = entry.get('latitude')\n",
    "                lon = entry.get('longitude')\n",
    "                speed = entry.get('speed')\n",
    "                course = entry.get('course')\n",
    "                # Create Vessel object and append to list\n",
    "                vessel = Vessel(vessel_id, lat, lon, speed, course)\n",
    "                vessels.append(vessel)\n",
    "\n",
    "    return vessels\n",
    "\n",
    "# Function to create a map using folium\n",
    "def create_map(vessels):\n",
    "    # Initialize map centered at the first vessel's location\n",
    "    map_center = [vessels[0].lat, vessels[0].lon]\n",
    "    m = folium.Map(location=map_center, zoom_start=10)\n",
    "\n",
    "    # Add markers for each vessel\n",
    "    for vessel in vessels:\n",
    "        popup = f\"Vessel ID: {vessel.vessel_id}<br>Speed: {vessel.speed}<br>Course: {vessel.course}\"\n",
    "        folium.Marker(location=[vessel.lat, vessel.lon], popup=popup).add_to(m)\n",
    "\n",
    "    return m\n",
    "\n",
    "# Example usage:\n",
    "folder_path = '.\\Data'  # Update this with the path to your AIS JSON files folder\n",
    "vessels = read_ais_json_files(folder_path)\n",
    "map = create_map(vessels)\n",
    "map.save('ais_map.html')  # Save the map as an HTML file"
   ]
  }
 ],
 "metadata": {
  "kernelspec": {
   "display_name": "base",
   "language": "python",
   "name": "python3"
  },
  "language_info": {
   "codemirror_mode": {
    "name": "ipython",
    "version": 3
   },
   "file_extension": ".py",
   "mimetype": "text/x-python",
   "name": "python",
   "nbconvert_exporter": "python",
   "pygments_lexer": "ipython3",
   "version": "3.11.4"
  }
 },
 "nbformat": 4,
 "nbformat_minor": 2
}
